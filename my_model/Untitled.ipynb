{
 "cells": [
  {
   "cell_type": "code",
   "execution_count": null,
   "metadata": {},
   "outputs": [],
   "source": [
    "#pip3 install opencv-python\n",
    "\n",
    "import tensorflow as tf\n",
    "import scipy.misc\n",
    "import model\n",
    "\n",
    "from subprocess import call\n",
    "import math\n",
    "\n",
    "sess = tf.InteractiveSession()\n",
    "saver = tf.train.import_meta_graph(Autopilot-TensorFlow-master/my_model/model1.ckpt.meta')\n",
    "\n",
    "saver.restore(sess, \"C:/Users/ankan/Desktop/Self/Autopilot-Tensmy_model/model1.ckpt\")\n",
    "\n",
    "graph = tf.get_default_graph()\n",
    "\n",
    "y = graph.get_tensor_by_name(\"predicted_steering_angle:0\")\n",
    "original_image = graph.get_tensor_by_name(\"x:0\")\n",
    "keep_prob = graph.get_tensor_by_name(\"keep_prob_:0\")\n",
    "\n",
    "img = cv2.imread('C:/Users/ankan/Desktop/Self/Autopilot-TensorFlow-master/Autopilot-TensorFlow-master/driving_dataset/steering_wheel_image.jpg',0)\n",
    "rows,cols = img.shape\n",
    "\n",
    "smoothed_angle = 0\n",
    "\n",
    "\n",
    "#read data.txt\n",
    "xs = []\n",
    "ys = []\n",
    "with open(\"C:/Users/ankan/Desktop/Self/Autopilot-TensorFlow-master/Autopilot-TensorFlow-master/driving_dataset/data.txt\") as f:\n",
    "    for line in f:\n",
    "        xs.append(\"C:/Users/ankan/Desktop/Self/Autopilot-TensorFlow-master/Autopilot-TensorFlow-master/driving_dataset/\" + line.split()[0])\n",
    "        #the paper by Nvidia uses the inverse of the turning radius,\n",
    "        #but steering wheel angle is proportional to the inverse of turning radius\n",
    "        #so the steering wheel angle in radians is used as the output\n",
    "        ys.append(float(line.split()[1]) * scipy.pi / 180)\n",
    "\n",
    "#get number of images\n",
    "num_images = len(xs)\n",
    "\n",
    "\n",
    "i = math.ceil(num_images*0.8)\n",
    "print(\"Starting frameofvideo:\" +str(i))\n",
    "\n",
    "#while(cv2.waitKey(10) != ord('q')):\n",
    "full_image = scipy.misc.imread(\"C:/Users/ankan/Desktop/Self/Autopilot-TensorFlow-master/Autopilot-TensorFlow-master/driving_dataset/\" + str(i) + \".jpg\", mode=\"RGB\")\n",
    "image = scipy.misc.imresize(full_image[-150:], [66, 200]) / 255.0\n",
    "degrees = y.eval(feed_dict={original_image: [image], keep_prob: 1.0})[0][0] * 180.0 / scipy.pi\n",
    "#call(\"clear\")\n",
    "#print(\"Predicted Steering angle: \" + str(degrees))\n",
    "print(\"Steering angle: \" + str(degrees) + \" (pred)\\t\" + str(ys[i]*180/scipy.pi) + \" (actual)\")\n",
    "   "
   ]
  }
 ],
 "metadata": {
  "kernelspec": {
   "display_name": "Python 3",
   "language": "python",
   "name": "python3"
  },
  "language_info": {
   "codemirror_mode": {
    "name": "ipython",
    "version": 3
   },
   "file_extension": ".py",
   "mimetype": "text/x-python",
   "name": "python",
   "nbconvert_exporter": "python",
   "pygments_lexer": "ipython3",
   "version": "3.6.5"
  }
 },
 "nbformat": 4,
 "nbformat_minor": 2
}
